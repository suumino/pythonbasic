{
 "cells": [
  {
   "cell_type": "code",
   "execution_count": 1,
   "metadata": {},
   "outputs": [
    {
     "name": "stdout",
     "output_type": "stream",
     "text": [
      "20 30 40\n",
      "30\n"
     ]
    }
   ],
   "source": [
    "a = list(map(int,input().split()))\n",
    "\n",
    "total = sum(a)\n",
    "print(int(total/len(a)))"
   ]
  },
  {
   "cell_type": "code",
   "execution_count": 2,
   "metadata": {},
   "outputs": [
    {
     "name": "stdout",
     "output_type": "stream",
     "text": [
      "2 4\n",
      "0 2\n"
     ]
    }
   ],
   "source": [
    "n = list(map(int,input().split()))\n",
    "print(\"%d %d\" % (n[0]//n[1], n[0] % n[1]))"
   ]
  },
  {
   "cell_type": "code",
   "execution_count": 3,
   "metadata": {},
   "outputs": [
    {
     "name": "stdout",
     "output_type": "stream",
     "text": [
      "6 2\n",
      "3 0\n"
     ]
    }
   ],
   "source": [
    "a, b = map(int,input().split())\n",
    "print(\"%d %d\" % (a//b, a % b))"
   ]
  },
  {
   "cell_type": "code",
   "execution_count": 4,
   "metadata": {},
   "outputs": [
    {
     "name": "stdout",
     "output_type": "stream",
     "text": [
      "이름을 입력해주세요 영어로 : sumin\n",
      "SUMIN\n"
     ]
    }
   ],
   "source": [
    "a = input(\"이름을 입력해주세요 영어로 : \")\n",
    "\n",
    "print(a.upper())"
   ]
  },
  {
   "cell_type": "code",
   "execution_count": 26,
   "metadata": {},
   "outputs": [
    {
     "name": "stdout",
     "output_type": "stream",
     "text": [
      "7\n",
      "153.86\n"
     ]
    }
   ],
   "source": [
    "\n",
    "def circle(n) :\n",
    "    \n",
    "    s = 0\n",
    "    \n",
    "    s = 3.14 * n * n \n",
    "    \n",
    "    return s\n",
    "\n",
    "a = circle(int(input()))\n",
    "print(a)"
   ]
  },
  {
   "cell_type": "code",
   "execution_count": null,
   "metadata": {},
   "outputs": [],
   "source": [
    "pa = {'수성' : 'Mercury', '금성' : 'Venus', '지구' : 'Earth', '화성' : 'Mars', '목성' : 'Jupiter', '토성': 'Saturn', '천왕성' : 'Uranus', '해왕성' : 'Nepturne'}\n",
    "\n",
    "name = input(\"행성 이름 입력하세요 : \")\n",
    "\n",
    "for i in range(1, len(pa)):\n",
    "    if name == pa(i):\n",
    "        print(pa[name])\n",
    "    else :\n",
    "        continue"
   ]
  },
  {
   "cell_type": "code",
   "execution_count": null,
   "metadata": {},
   "outputs": [],
   "source": [
    "planet = {\n",
    "    '수성' : 'Mercury', \n",
    "    '금성' : 'Venus', \n",
    "    '지구' : 'Earth', \n",
    "    '화성' : 'Mars', \n",
    "    '목성' : 'Jupiter', \n",
    "    '토성' : 'Saturn', \n",
    "    '천왕성' : 'Uranus', \n",
    "    '해왕성' : 'Nepturne'\n",
    "}\n",
    "\n",
    "a = input()\n",
    "\n",
    "for i in planet.keys:\n",
    "  if a != planet.keys:\n",
    "    print(\"찾는 행성이 없습니다.\")\n",
    "  else : \n",
    "    print(planet[a])"
   ]
  },
  {
   "cell_type": "code",
   "execution_count": null,
   "metadata": {},
   "outputs": [],
   "source": [
    "planet = {\n",
    "    '수성' : 'Mercury', \n",
    "    '금성' : 'Venus', \n",
    "    '지구' : 'Earth', \n",
    "    '화성' : 'Mars', \n",
    "    '목성' : 'Jupiter', \n",
    "    '토성' : 'Saturn', \n",
    "    '천왕성' : 'Uranus', \n",
    "    '해왕성' : 'Nepturne'\n",
    "}\n",
    "\n",
    "try:\n",
    "  a = input()\n",
    "except KeyError:\n",
    "  print(\"찾는 행성이 없습니다. \") \n",
    "\n",
    "print(planet[a])"
   ]
  },
  {
   "cell_type": "code",
   "execution_count": null,
   "metadata": {},
   "outputs": [],
   "source": []
  }
 ],
 "metadata": {
  "kernelspec": {
   "display_name": "Python 3",
   "language": "python",
   "name": "python3"
  },
  "language_info": {
   "codemirror_mode": {
    "name": "ipython",
    "version": 3
   },
   "file_extension": ".py",
   "mimetype": "text/x-python",
   "name": "python",
   "nbconvert_exporter": "python",
   "pygments_lexer": "ipython3",
   "version": "3.8.5"
  }
 },
 "nbformat": 4,
 "nbformat_minor": 4
}
