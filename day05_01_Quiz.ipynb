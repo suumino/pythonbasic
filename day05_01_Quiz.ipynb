{
  "nbformat": 4,
  "nbformat_minor": 0,
  "metadata": {
    "colab": {
      "name": "day05_01_Quiz",
      "provenance": [],
      "collapsed_sections": [],
      "include_colab_link": true
    },
    "kernelspec": {
      "display_name": "Python 3",
      "name": "python3"
    }
  },
  "cells": [
    {
      "cell_type": "markdown",
      "metadata": {
        "id": "view-in-github",
        "colab_type": "text"
      },
      "source": [
        "<a href=\"https://colab.research.google.com/github/suumino/pythonbasic/blob/main/day05_01_Quiz.ipynb\" target=\"_parent\"><img src=\"https://colab.research.google.com/assets/colab-badge.svg\" alt=\"Open In Colab\"/></a>"
      ]
    },
    {
      "cell_type": "code",
      "metadata": {
        "id": "AOetPn54JO3C",
        "colab": {
          "base_uri": "https://localhost:8080/"
        },
        "outputId": "9b2d4cfc-3f86-49fb-e9b1-2d8954dd3c96"
      },
      "source": [
        "nums = [100, 200, 300, 400, 500]\r\n",
        "del(nums[3:])\r\n",
        "print(nums)"
      ],
      "execution_count": null,
      "outputs": [
        {
          "output_type": "stream",
          "text": [
            "[100, 200, 300]\n"
          ],
          "name": "stdout"
        }
      ]
    },
    {
      "cell_type": "code",
      "metadata": {
        "id": "3Zy91GEtJyJX",
        "colab": {
          "base_uri": "https://localhost:8080/"
        },
        "outputId": "e1d08659-f952-48ba-cce2-c266e5379fb2"
      },
      "source": [
        "nums = [100, 200, 300, 400, 500]\r\n",
        "a = 0\r\n",
        "while a < 5:\r\n",
        "  a += 1\r\n",
        "  if a < 4:\r\n",
        "    continue\r\n",
        "  else:\r\n",
        "    nums.pop()\r\n",
        "print(nums)"
      ],
      "execution_count": null,
      "outputs": [
        {
          "output_type": "stream",
          "text": [
            "[100, 200, 300]\n"
          ],
          "name": "stdout"
        }
      ]
    },
    {
      "cell_type": "code",
      "metadata": {
        "id": "YDqD3V1jKLM6",
        "colab": {
          "base_uri": "https://localhost:8080/"
        },
        "outputId": "9c78dc5c-d323-4f78-8262-119a754fc8b7"
      },
      "source": [
        "a = [200, 100, 300]\r\n",
        "a.insert(2, 10000)\r\n",
        "print(a)"
      ],
      "execution_count": null,
      "outputs": [
        {
          "output_type": "stream",
          "text": [
            "[200, 100, 10000, 300]\n"
          ],
          "name": "stdout"
        }
      ]
    },
    {
      "cell_type": "code",
      "metadata": {
        "id": "0O1rkjbTOQ8n",
        "colab": {
          "base_uri": "https://localhost:8080/"
        },
        "outputId": "9b3741c3-658b-4b17-c87a-3e59d6dfa87f"
      },
      "source": [
        "l = [100, 200, 300]\r\n",
        "print(type(l))"
      ],
      "execution_count": null,
      "outputs": [
        {
          "output_type": "stream",
          "text": [
            "<class 'list'>\n"
          ],
          "name": "stdout"
        }
      ]
    },
    {
      "cell_type": "code",
      "metadata": {
        "id": "Fah3bWNsO4nr",
        "colab": {
          "base_uri": "https://localhost:8080/"
        },
        "outputId": "21336582-2cf6-4944-ba8d-a95f05b126a4"
      },
      "source": [
        "a = 'p'\r\n",
        "print(type(a))"
      ],
      "execution_count": null,
      "outputs": [
        {
          "output_type": "stream",
          "text": [
            "<class 'str'>\n"
          ],
          "name": "stdout"
        }
      ]
    },
    {
      "cell_type": "code",
      "metadata": {
        "id": "xfz82W9IPzoL",
        "colab": {
          "base_uri": "https://localhost:8080/"
        },
        "outputId": "c425b725-8987-487f-e706-59e9823a0ec5"
      },
      "source": [
        "a = 10\r\n",
        "b = 2\r\n",
        "for i in range(1, 5, 2):\r\n",
        "  a += i\r\n",
        "  print(a + b)"
      ],
      "execution_count": null,
      "outputs": [
        {
          "output_type": "stream",
          "text": [
            "13\n",
            "16\n"
          ],
          "name": "stdout"
        }
      ]
    },
    {
      "cell_type": "code",
      "metadata": {
        "id": "79mgmy7nQuIL",
        "colab": {
          "base_uri": "https://localhost:8080/"
        },
        "outputId": "62ec40b8-6847-4f9b-e79d-65d2d834036a"
      },
      "source": [
        "d = {'w': 78, 'w':84}\r\n",
        "print(d['w'])"
      ],
      "execution_count": null,
      "outputs": [
        {
          "output_type": "stream",
          "text": [
            "84\n"
          ],
          "name": "stdout"
        }
      ]
    },
    {
      "cell_type": "code",
      "metadata": {
        "id": "ZrlT6rH2TCM8",
        "colab": {
          "base_uri": "https://localhost:8080/"
        },
        "outputId": "626bac86-4bb3-42f4-cb59-f906af836fef"
      },
      "source": [
        "year = '2019'\r\n",
        "month = '04'\r\n",
        "day = '26'\r\n",
        "hour = '11'\r\n",
        "minute = '34'\r\n",
        "second = '27'\r\n",
        "\r\n",
        "print(year, month, day, sep = '/', end = ' ')\r\n",
        "print(hour, minute, second, sep = ':')"
      ],
      "execution_count": null,
      "outputs": [
        {
          "output_type": "stream",
          "text": [
            "2019/04/26 11:34:27\n"
          ],
          "name": "stdout"
        }
      ]
    },
    {
      "cell_type": "code",
      "metadata": {
        "id": "qzVlljzdZd4d",
        "colab": {
          "base_uri": "https://localhost:8080/"
        },
        "outputId": "6667fa8f-5ca3-4f9e-b5f8-b61e46c5d1b0"
      },
      "source": [
        "a = int(input(\"몇단짜리 트리를 만들까요? :\"))\r\n",
        "\r\n",
        "for i in range(1, a + 1):\r\n",
        "  d = (2 * i - 1)\r\n",
        "  print(\" \" * (a - i) , \"*\" * d , \" \" * (a - i))\r\n"
      ],
      "execution_count": null,
      "outputs": [
        {
          "output_type": "stream",
          "text": [
            "몇단짜리 트리를 만들까요? :5\n",
            "     *     \n",
            "    ***    \n",
            "   *****   \n",
            "  *******  \n",
            " ********* \n"
          ],
          "name": "stdout"
        }
      ]
    },
    {
      "cell_type": "code",
      "metadata": {
        "id": "53s8Kp3yamvK",
        "colab": {
          "base_uri": "https://localhost:8080/"
        },
        "outputId": "5e8426ed-e366-455e-e1cd-ebfefa16ca93"
      },
      "source": [
        "s = 0\r\n",
        "for i in range(1, 101):\r\n",
        "  s += i\r\n",
        "print(s)"
      ],
      "execution_count": null,
      "outputs": [
        {
          "output_type": "stream",
          "text": [
            "5050\n"
          ],
          "name": "stdout"
        }
      ]
    },
    {
      "cell_type": "code",
      "metadata": {
        "id": "M29L8NOpxwiT",
        "colab": {
          "base_uri": "https://localhost:8080/"
        },
        "outputId": "8b718f25-1b8e-454b-8147-7814cdd8b170"
      },
      "source": [
        "class Wizard: \r\n",
        "  def __init__ (self, health, mana, armor):\r\n",
        "    self.health = health\r\n",
        "    self.mana = mana\r\n",
        "    self.armor = armor\r\n",
        "    \r\n",
        "  def attack(self):\r\n",
        "    print(\"파이어볼\")\r\n",
        "\r\n",
        "x = Wizard(health = 545, mana = 210, armor = 10)\r\n",
        "print(x.health, x.mana, x.armor)\r\n",
        "x.attack()"
      ],
      "execution_count": null,
      "outputs": [
        {
          "output_type": "stream",
          "text": [
            "545 210 10\n",
            "파이어볼\n"
          ],
          "name": "stdout"
        }
      ]
    },
    {
      "cell_type": "code",
      "metadata": {
        "id": "iELr3_2jzCL3",
        "colab": {
          "base_uri": "https://localhost:8080/"
        },
        "outputId": "b0606740-9f2c-43a2-fa41-216d52a74948"
      },
      "source": [
        "a = ['수성', '금성', '지구', '화성', '목성', '토성', '천왕성', '해왕성']\r\n",
        "b = int(input(\"태양에서 몇 번째로 가까운 행성을 알려드릴까요 : \"))\r\n",
        "print(a[b-1])"
      ],
      "execution_count": null,
      "outputs": [
        {
          "output_type": "stream",
          "text": [
            "태양에서 몇 번째로 가까운 행성을 알려드릴까요 : 8\n",
            "해왕성\n"
          ],
          "name": "stdout"
        }
      ]
    },
    {
      "cell_type": "code",
      "metadata": {
        "id": "PCZAlv3z9eLd"
      },
      "source": [
        ""
      ],
      "execution_count": null,
      "outputs": []
    },
    {
      "cell_type": "code",
      "metadata": {
        "id": "dTYk3nfgzp54",
        "colab": {
          "base_uri": "https://localhost:8080/"
        },
        "outputId": "ab26f4ae-f172-4c24-9ac5-8e5b798d2975"
      },
      "source": [
        "a = int(input(\"숫자를 입력해 주세요 : \"))\r\n",
        "\r\n",
        "if a % 3 == 0: \r\n",
        "  print(\"짝\")\r\n",
        "else :\r\n",
        "  print(a)"
      ],
      "execution_count": null,
      "outputs": [
        {
          "output_type": "stream",
          "text": [
            "숫자를 입력해 주세요 : 5\n",
            "5\n"
          ],
          "name": "stdout"
        }
      ]
    },
    {
      "cell_type": "code",
      "metadata": {
        "id": "jt0YDN-G0IyP",
        "colab": {
          "base_uri": "https://localhost:8080/"
        },
        "outputId": "29d81849-b7cb-4303-f561-b5ef82fceea7"
      },
      "source": [
        "name = input(\"이름을 입력해주세요 : \")\r\n",
        "\r\n",
        "print(\"안녕하세요 저는 %s 입니다.\" % name)"
      ],
      "execution_count": null,
      "outputs": [
        {
          "output_type": "stream",
          "text": [
            "이름을 입력해주세요 : 김다정\n",
            "안녕하세요 저는 김다정 입니다.\n"
          ],
          "name": "stdout"
        }
      ]
    },
    {
      "cell_type": "code",
      "metadata": {
        "id": "gW5QqOA5DBQM",
        "colab": {
          "base_uri": "https://localhost:8080/"
        },
        "outputId": "e7d2db35-6ca1-4d68-dddb-f5119cc47f25"
      },
      "source": [
        "a = input(\"문장을 입력해주세요 : \")\r\n",
        "\r\n",
        "\r\n",
        "for i in range(len(a), 0, -1):\r\n",
        "  print(a[i-1], end = '')"
      ],
      "execution_count": null,
      "outputs": [
        {
          "output_type": "stream",
          "text": [
            "문장을 입력해주세요 : asdf\n",
            "fdsa"
          ],
          "name": "stdout"
        }
      ]
    },
    {
      "cell_type": "code",
      "metadata": {
        "id": "DRq4KKamGMBU",
        "colab": {
          "base_uri": "https://localhost:8080/"
        },
        "outputId": "c94852ff-fc69-4eeb-80cc-457f0f82ce1a"
      },
      "source": [
        "s = input('')\r\n",
        "print(s[::-1])"
      ],
      "execution_count": null,
      "outputs": [
        {
          "output_type": "stream",
          "text": [
            "ㅁㄴㅇㄻㄴㅇㄹ\n",
            "ㄹㅇㄴㄻㅇㄴㅁ\n"
          ],
          "name": "stdout"
        }
      ]
    },
    {
      "cell_type": "code",
      "metadata": {
        "id": "UmXoSjNp0TkN",
        "colab": {
          "base_uri": "https://localhost:8080/"
        },
        "outputId": "59963df7-44af-4fe8-f4fa-266de543cd2d"
      },
      "source": [
        "a = int(input(\"키를 입력해 주세요: \"))\r\n",
        "\r\n",
        "if a > 150 : \r\n",
        "  print(\"Yes\")\r\n",
        "else :\r\n",
        "  print(\"No\")"
      ],
      "execution_count": null,
      "outputs": [
        {
          "output_type": "stream",
          "text": [
            "키를 입력해 주세요: 151\n",
            "Yes\n"
          ],
          "name": "stdout"
        }
      ]
    },
    {
      "cell_type": "code",
      "metadata": {
        "id": "wlAg7XBe1MYF",
        "colab": {
          "base_uri": "https://localhost:8080/"
        },
        "outputId": "0f694351-0eec-4ba2-a3ab-e9a47c3fe85a"
      },
      "source": [
        "a = int(input(\"세 과목의 점수를 입력해 주세요 : \"))\r\n",
        "b = int(input(\"\"))\r\n",
        "c = int(input(\"\"))\r\n",
        "\r\n",
        "d = int((a + b + c)/3)\r\n",
        "print(\"%d\" % d)\r\n"
      ],
      "execution_count": null,
      "outputs": [
        {
          "output_type": "stream",
          "text": [
            "세 과목의 점수를 입력해 주세요 : 50\n",
            "세 과목의 점수를 입력해 주세요 : 50\n",
            "세 과목의 점수를 입력해 주세요 : 60\n",
            "53\n"
          ],
          "name": "stdout"
        }
      ]
    },
    {
      "cell_type": "code",
      "metadata": {
        "id": "c995c_pm1a_P",
        "colab": {
          "base_uri": "https://localhost:8080/"
        },
        "outputId": "c15e4842-c7b1-479e-ea6b-ea9522ae3bcb"
      },
      "source": [
        "a = int(input())\r\n",
        "b = int(input())\r\n",
        "\r\n",
        "c = int(a ** b)\r\n",
        "print(\"%d\" % c)"
      ],
      "execution_count": null,
      "outputs": [
        {
          "output_type": "stream",
          "text": [
            "2\n",
            "4\n",
            "16\n"
          ],
          "name": "stdout"
        }
      ]
    },
    {
      "cell_type": "code",
      "metadata": {
        "id": "V4RyCt-XIZzJ",
        "colab": {
          "base_uri": "https://localhost:8080/"
        },
        "outputId": "ce3e0e78-5bd8-432f-d15e-86da1070f5b4"
      },
      "source": [
        "a, b = map(int,input().split())\r\n",
        "print(a**b)"
      ],
      "execution_count": null,
      "outputs": [
        {
          "output_type": "stream",
          "text": [
            "2 4\n",
            "16\n"
          ],
          "name": "stdout"
        }
      ]
    },
    {
      "cell_type": "code",
      "metadata": {
        "id": "QO6a_9VpdG8T"
      },
      "source": [
        ""
      ],
      "execution_count": null,
      "outputs": []
    }
  ]
}